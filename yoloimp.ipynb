{
 "cells": [
  {
   "cell_type": "code",
   "execution_count": 1,
   "metadata": {},
   "outputs": [],
   "source": [
    "import cv2\n",
    "import numpy as np\n",
    "import time\n",
    "import os\n",
    "import pandas as pd"
   ]
  },
  {
   "cell_type": "code",
   "execution_count": 2,
   "metadata": {},
   "outputs": [],
   "source": [
    "#loading the labels\n",
    "labelspath = './assets/coco.names'\n",
    "labels = open(labelspath).read().strip().split('\\n')\n",
    "\n",
    "#loading the weights and the configuration file\n",
    "weights = './assets/yolov3.weights'\n",
    "config = './assets/yolov3.cfg'"
   ]
  },
  {
   "cell_type": "code",
   "execution_count": 3,
   "metadata": {},
   "outputs": [
    {
     "data": {
      "text/plain": [
       "-1"
      ]
     },
     "execution_count": 3,
     "metadata": {},
     "output_type": "execute_result"
    }
   ],
   "source": [
    "threshold = 0.5\n",
    "confidence_threshold = 0.6\n",
    "\n",
    "net = cv2.dnn.readNetFromDarknet(config, weights)\n",
    "layer_names = net.getLayerNames()\n",
    "layer_names = [layer_names[i - 1] for i in net.getUnconnectedOutLayers().flatten()]\n",
    "\n",
    "#loading the image\n",
    "imagepath = './assets/shutterisland.png'\n",
    "image = cv2.imread(imagepath)\n",
    "h, w = image.shape[:2]\n",
    "\n",
    "blob = cv2.dnn.blobFromImage(image, 1/255.0, (416, 416), swapRB=True, crop=False)\n",
    "net.setInput(blob)\n",
    "layerOutputs = net.forward(layer_names)\n",
    "\n",
    "boxes = []\n",
    "confidences = []\n",
    "classIDs = []\n",
    "\n",
    "for output in layerOutputs:\n",
    "    for detection in output:\n",
    "        scores = detection[5:]\n",
    "        classID = np.argmax(scores)\n",
    "        confidence = scores[classID]\n",
    "\n",
    "        if confidence > confidence_threshold:\n",
    "            box = detection[0:4] * np.array([w, h, w, h])\n",
    "            (centerX, centerY, width, height) = box.astype('int')\n",
    "\n",
    "            x = int(centerX - (width / 2))\n",
    "            y = int(centerY - (height / 2))\n",
    "\n",
    "            boxes.append([x, y, int(width), int(height)])\n",
    "            confidences.append(float(confidence))\n",
    "            classIDs.append(classID)\n",
    "\n",
    "##Non max-supression to remove the overlapping bounding boxes\n",
    "idxs = cv2.dnn.NMSBoxes(boxes, confidences, confidence_threshold, threshold)\n",
    "\n",
    "if len(idxs)>0:\n",
    "    for i in idxs.flatten():\n",
    "        (x, y) = (boxes[i][0], boxes[i][1])\n",
    "        (w, h) = (boxes[i][2], boxes[i][3])\n",
    "        # np.random.seed(42)\n",
    "        color = [int(c) for c in np.random.randint(0, 255, size=(3,))]\n",
    "        cv2.rectangle(image, (x, y), (x+w, y+h), color, 2)\n",
    "        text = '{}: {:.4f}'.format(labels[classIDs[i]], confidences[i])\n",
    "        cv2.putText(image, text, (x, y-5), cv2.FONT_HERSHEY_SIMPLEX, 0.5, color, 2)\n",
    "\n",
    "cv2.imwrite('output.png', image)\n",
    "cv2.imshow('Image', image)\n",
    "cv2.waitKey(0)"
   ]
  }
 ],
 "metadata": {
  "kernelspec": {
   "display_name": "Python 3",
   "language": "python",
   "name": "python3"
  },
  "language_info": {
   "codemirror_mode": {
    "name": "ipython",
    "version": 3
   },
   "file_extension": ".py",
   "mimetype": "text/x-python",
   "name": "python",
   "nbconvert_exporter": "python",
   "pygments_lexer": "ipython3",
   "version": "3.10.9"
  }
 },
 "nbformat": 4,
 "nbformat_minor": 2
}
